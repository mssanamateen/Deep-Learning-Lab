{
 "cells": [
  {
   "cell_type": "markdown",
   "id": "59c161de-f47e-4049-8c83-bab31331a28a",
   "metadata": {},
   "source": [
    "###Tensors are used to hold complex data in deep learning and machine learning models. They are the basis of many libraries including Tensorflow and Pytorch.\r\n",
    "##\r\n",
    "We can perform various operations on tensors, including addition, subtraction, multiplication, division, and reshaping etc."
   ]
  },
  {
   "cell_type": "markdown",
   "id": "bd9b4604-a32e-4072-9611-d1dc41f84bec",
   "metadata": {},
   "source": [
    "1. Addition - we can add two or more tensors in tensorflow using “tf.add” function."
   ]
  },
  {
   "cell_type": "code",
   "execution_count": 1,
   "id": "a3aca265-09a4-466a-8e31-eed282693548",
   "metadata": {},
   "outputs": [
    {
     "name": "stdout",
     "output_type": "stream",
     "text": [
      "tf.Tensor([3 3 3], shape=(3,), dtype=int32)\n"
     ]
    }
   ],
   "source": [
    "import tensorflow as tf\n",
    "a = tf.constant([2,2,2])\n",
    "b = tf.constant([1,1,1])\n",
    "c = tf.add(a,b)\n",
    "print(c)"
   ]
  },
  {
   "cell_type": "markdown",
   "id": "d3240b4c-980b-4f32-97e8-e0cfb82723c7",
   "metadata": {},
   "source": [
    "2. Subtraction  - we can subtract one tensor from other in tensorflow using “tf.subtract” function."
   ]
  },
  {
   "cell_type": "code",
   "execution_count": 4,
   "id": "0947e399-f4d0-427e-98f5-f1ddfdd35102",
   "metadata": {},
   "outputs": [
    {
     "name": "stdout",
     "output_type": "stream",
     "text": [
      "tf.Tensor([1 1 1], shape=(3,), dtype=int32)\n"
     ]
    }
   ],
   "source": [
    "import tensorflow as tf\n",
    "a = tf.constant([2,2,2])\n",
    "b = tf.constant([1,1,1])\n",
    "c = tf.subtract(a,b)\n",
    "print(c)"
   ]
  },
  {
   "cell_type": "markdown",
   "id": "e7ab52e5-2ec3-447d-bdaf-b69fd023215c",
   "metadata": {},
   "source": [
    "3. Multiplication  - we can perform multiplication on two or more tensors in tensorflow using “tf.multiply” function."
   ]
  },
  {
   "cell_type": "code",
   "execution_count": 5,
   "id": "97aea23d-7413-46a4-9d37-d16d8222b533",
   "metadata": {},
   "outputs": [
    {
     "name": "stdout",
     "output_type": "stream",
     "text": [
      "tf.Tensor([2 2 2], shape=(3,), dtype=int32)\n"
     ]
    }
   ],
   "source": [
    "import tensorflow as tf\n",
    "a = tf.constant([2,2,2])\n",
    "b = tf.constant([1,1,1])\n",
    "c = tf.multiply(a,b)\n",
    "print(c)"
   ]
  },
  {
   "cell_type": "code",
   "execution_count": null,
   "id": "adafd3a3-58c3-497c-a439-b14b4b70b845",
   "metadata": {},
   "outputs": [],
   "source": [
    "4. Division  - we can perform Division on two tensors in tensorflow using “tf.divide” function."
   ]
  },
  {
   "cell_type": "code",
   "execution_count": 6,
   "id": "77dea882-20aa-48e3-98f9-094e95ff6aa9",
   "metadata": {},
   "outputs": [
    {
     "name": "stdout",
     "output_type": "stream",
     "text": [
      "tf.Tensor([2. 2. 2.], shape=(3,), dtype=float64)\n"
     ]
    }
   ],
   "source": [
    "import tensorflow as tf\n",
    "a = tf.constant([2,2,2])\n",
    "b = tf.constant([1,1,1])\n",
    "c = tf.divide(a,b)\n",
    "print(c)"
   ]
  },
  {
   "cell_type": "markdown",
   "id": "b6e58ed0-516b-4b75-a4f4-38c028535b0b",
   "metadata": {},
   "source": [
    "5. Reshaping  - we can reshape a tensor using tf.reshape() function."
   ]
  },
  {
   "cell_type": "code",
   "execution_count": 7,
   "id": "46b8c25e-f125-42aa-bebc-756fcd38579b",
   "metadata": {},
   "outputs": [
    {
     "name": "stdout",
     "output_type": "stream",
     "text": [
      "tf.Tensor(\n",
      "[[2 2 2]\n",
      " [5 6 8]], shape=(2, 3), dtype=int32)\n"
     ]
    }
   ],
   "source": [
    "import tensorflow as tf\n",
    "a = tf.constant([2,2,2,5,6,8])\n",
    "b = tf.reshape(a, [2,3])\n",
    "print(b)"
   ]
  },
  {
   "cell_type": "markdown",
   "id": "3f21256f-069f-436f-b61d-a22b189e7e60",
   "metadata": {},
   "source": [
    "6. Matrix Multiplication  - we can perform matrix multiplication between two tensors using the tf.matmul() function."
   ]
  },
  {
   "cell_type": "code",
   "execution_count": 8,
   "id": "eb5e8ef1-a090-463a-a20d-3a4a6a4c4d15",
   "metadata": {},
   "outputs": [
    {
     "name": "stdout",
     "output_type": "stream",
     "text": [
      "tf.Tensor(\n",
      "[[12 16]\n",
      " [12 16]], shape=(2, 2), dtype=int32)\n"
     ]
    }
   ],
   "source": [
    "a = tf.constant([[2,2],[2,2]])\n",
    "b = tf.constant([[2,3],[4,5]])\n",
    "c = tf.matmul(a,b)\n",
    "print(c)"
   ]
  },
  {
   "cell_type": "code",
   "execution_count": null,
   "id": "ab65c5be-e24e-4d9a-98c5-50ac7b43aafd",
   "metadata": {},
   "outputs": [],
   "source": []
  }
 ],
 "metadata": {
  "kernelspec": {
   "display_name": "Python 3 (ipykernel)",
   "language": "python",
   "name": "python3"
  },
  "language_info": {
   "codemirror_mode": {
    "name": "ipython",
    "version": 3
   },
   "file_extension": ".py",
   "mimetype": "text/x-python",
   "name": "python",
   "nbconvert_exporter": "python",
   "pygments_lexer": "ipython3",
   "version": "3.11.7"
  }
 },
 "nbformat": 4,
 "nbformat_minor": 5
}
